{
 "cells": [
  {
   "cell_type": "code",
   "execution_count": 1,
   "metadata": {},
   "outputs": [
    {
     "name": "stdout",
     "output_type": "stream",
     "text": [
      "PyTorch version: 2.5.1\n",
      "CUDA available: False\n"
     ]
    }
   ],
   "source": [
    "import torch\n",
    "\n",
    "print(f\"PyTorch version: {torch.__version__}\")\n",
    "print(f\"CUDA available: {torch.cuda.is_available()}\")"
   ]
  },
  {
   "cell_type": "code",
   "execution_count": 5,
   "metadata": {},
   "outputs": [
    {
     "data": {
      "text/plain": [
       "7"
      ]
     },
     "execution_count": 5,
     "metadata": {},
     "output_type": "execute_result"
    }
   ],
   "source": [
    "# Creates a tensor [Tensor is for serialization/deserialization] - human --> tensor --> model --> tensor --> human output\n",
    "scalar = torch.tensor(7)\n",
    "scalar # no dimensions/single number\n",
    "\n",
    "#get tensor back\n",
    "scalar.item()"
   ]
  },
  {
   "cell_type": "code",
   "execution_count": 14,
   "metadata": {},
   "outputs": [
    {
     "name": "stdout",
     "output_type": "stream",
     "text": [
      "1\n",
      "torch.Size([3])\n",
      "-----------------\n",
      "2\n",
      "torch.Size([2, 2])\n",
      "-----------------\n",
      "3\n",
      "torch.Size([1, 3, 3])\n",
      "-----------------\n",
      "3\n",
      "torch.Size([2, 2, 3])\n"
     ]
    }
   ],
   "source": [
    "vector = torch.tensor([1,2,3])\n",
    "# dimensions is basically - just the number of the square brackets\n",
    "print(vector.ndim)\n",
    "print(vector.shape)\n",
    "\n",
    "print(\"-----------------\")\n",
    "\n",
    "matrix = torch.tensor([[1,2],[3,4]])\n",
    "print(matrix.ndim)\n",
    "print(matrix.shape)\n",
    "\n",
    "print(\"-----------------\")\n",
    "\n",
    "tensor = torch.tensor([[[1,2,3],\n",
    "                        [4,5,6],\n",
    "                        [7,8,9]]])\n",
    "print(tensor.ndim)\n",
    "print(tensor.shape)\n",
    "\n",
    "print(\"-----------------\")\n",
    "\n",
    "tensor = torch.tensor([[[1,2,3],[4,5,6]],[[7,8,9],[10,11,12]]])\n",
    "print(tensor.ndim)\n",
    "print(tensor.shape) \n"
   ]
  },
  {
   "cell_type": "code",
   "execution_count": 20,
   "metadata": {},
   "outputs": [
    {
     "name": "stdout",
     "output_type": "stream",
     "text": [
      "tensor([[[0.5975, 0.0902],\n",
      "         [0.5519, 0.5971],\n",
      "         [0.4623, 0.6878]],\n",
      "\n",
      "        [[0.5721, 0.6929],\n",
      "         [0.6573, 0.1327],\n",
      "         [0.8041, 0.4232]],\n",
      "\n",
      "        [[0.0735, 0.5664],\n",
      "         [0.4889, 0.1427],\n",
      "         [0.4119, 0.4340]],\n",
      "\n",
      "        [[0.9998, 0.9831],\n",
      "         [0.0720, 0.6673],\n",
      "         [0.9493, 0.1465]]])\n"
     ]
    }
   ],
   "source": [
    "random_tensor = torch.rand(4,3,2)\n",
    "print(random_tensor)\n"
   ]
  }
 ],
 "metadata": {
  "kernelspec": {
   "display_name": "learn-pytorch",
   "language": "python",
   "name": "python3"
  },
  "language_info": {
   "codemirror_mode": {
    "name": "ipython",
    "version": 3
   },
   "file_extension": ".py",
   "mimetype": "text/x-python",
   "name": "python",
   "nbconvert_exporter": "python",
   "pygments_lexer": "ipython3",
   "version": "3.11.11"
  }
 },
 "nbformat": 4,
 "nbformat_minor": 2
}
