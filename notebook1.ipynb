{
 "cells": [
  {
   "cell_type": "code",
   "execution_count": 1,
   "metadata": {},
   "outputs": [
    {
     "name": "stdout",
     "output_type": "stream",
     "text": [
      "PyTorch version: 2.5.1\n",
      "CUDA available: False\n"
     ]
    }
   ],
   "source": [
    "import torch\n",
    "\n",
    "print(f\"PyTorch version: {torch.__version__}\")\n",
    "print(f\"CUDA available: {torch.cuda.is_available()}\")"
   ]
  },
  {
   "cell_type": "code",
   "execution_count": 5,
   "metadata": {},
   "outputs": [
    {
     "data": {
      "text/plain": [
       "7"
      ]
     },
     "execution_count": 5,
     "metadata": {},
     "output_type": "execute_result"
    }
   ],
   "source": [
    "# Creates a tensor [Tensor is for serialization/deserialization] - human --> tensor --> model --> tensor --> human output\n",
    "scalar = torch.tensor(7)\n",
    "scalar # no dimensions/single number\n",
    "\n",
    "#get tensor back\n",
    "scalar.item()"
   ]
  },
  {
   "cell_type": "code",
   "execution_count": 14,
   "metadata": {},
   "outputs": [
    {
     "name": "stdout",
     "output_type": "stream",
     "text": [
      "1\n",
      "torch.Size([3])\n",
      "-----------------\n",
      "2\n",
      "torch.Size([2, 2])\n",
      "-----------------\n",
      "3\n",
      "torch.Size([1, 3, 3])\n",
      "-----------------\n",
      "3\n",
      "torch.Size([2, 2, 3])\n"
     ]
    }
   ],
   "source": [
    "vector = torch.tensor([1,2,3])\n",
    "# dimensions is basically - just the number of the square brackets\n",
    "print(vector.ndim)\n",
    "print(vector.shape)\n",
    "\n",
    "print(\"-----------------\")\n",
    "\n",
    "matrix = torch.tensor([[1,2],[3,4]])\n",
    "print(matrix.ndim)\n",
    "print(matrix.shape)\n",
    "\n",
    "print(\"-----------------\")\n",
    "\n",
    "tensor = torch.tensor([[[1,2,3],\n",
    "                        [4,5,6],\n",
    "                        [7,8,9]]])\n",
    "print(tensor.ndim)\n",
    "print(tensor.shape)\n",
    "\n",
    "print(\"-----------------\")\n",
    "\n",
    "tensor = torch.tensor([[[1,2,3],[4,5,6]],[[7,8,9],[10,11,12]]])\n",
    "print(tensor.ndim)\n",
    "print(tensor.shape) \n"
   ]
  },
  {
   "cell_type": "code",
   "execution_count": 20,
   "metadata": {},
   "outputs": [
    {
     "name": "stdout",
     "output_type": "stream",
     "text": [
      "tensor([[[0.5975, 0.0902],\n",
      "         [0.5519, 0.5971],\n",
      "         [0.4623, 0.6878]],\n",
      "\n",
      "        [[0.5721, 0.6929],\n",
      "         [0.6573, 0.1327],\n",
      "         [0.8041, 0.4232]],\n",
      "\n",
      "        [[0.0735, 0.5664],\n",
      "         [0.4889, 0.1427],\n",
      "         [0.4119, 0.4340]],\n",
      "\n",
      "        [[0.9998, 0.9831],\n",
      "         [0.0720, 0.6673],\n",
      "         [0.9493, 0.1465]]])\n"
     ]
    }
   ],
   "source": [
    "random_tensor = torch.rand(4,3,2)\n",
    "print(random_tensor)"
   ]
  },
  {
   "cell_type": "code",
   "execution_count": 7,
   "metadata": {},
   "outputs": [
    {
     "name": "stdout",
     "output_type": "stream",
     "text": [
      "tensor([[[0.2756, 0.8736, 0.8287],\n",
      "         [0.8422, 0.8185, 0.4799],\n",
      "         [0.9102, 0.5261, 0.8229],\n",
      "         ...,\n",
      "         [0.2638, 0.6988, 0.9368],\n",
      "         [0.3347, 0.1590, 0.2872],\n",
      "         [0.2473, 0.5816, 0.1971]],\n",
      "\n",
      "        [[0.9184, 0.9367, 0.1332],\n",
      "         [0.3639, 0.2123, 0.0535],\n",
      "         [0.6338, 0.4432, 0.5805],\n",
      "         ...,\n",
      "         [0.9741, 0.0602, 0.6299],\n",
      "         [0.1327, 0.2192, 0.9668],\n",
      "         [0.2781, 0.2530, 0.1315]],\n",
      "\n",
      "        [[0.6415, 0.7631, 0.1628],\n",
      "         [0.6155, 0.1745, 0.3673],\n",
      "         [0.9439, 0.6087, 0.9162],\n",
      "         ...,\n",
      "         [0.1668, 0.9064, 0.7746],\n",
      "         [0.1628, 0.2767, 0.9714],\n",
      "         [0.9476, 0.3132, 0.4228]],\n",
      "\n",
      "        ...,\n",
      "\n",
      "        [[0.8822, 0.2150, 0.2794],\n",
      "         [0.0552, 0.1489, 0.2230],\n",
      "         [0.8434, 0.1056, 0.1495],\n",
      "         ...,\n",
      "         [0.9053, 0.7623, 0.3824],\n",
      "         [0.8893, 0.8821, 0.9954],\n",
      "         [0.6757, 0.1857, 0.0201]],\n",
      "\n",
      "        [[0.4108, 0.8148, 0.3008],\n",
      "         [0.4622, 0.0105, 0.0198],\n",
      "         [0.4953, 0.0556, 0.0646],\n",
      "         ...,\n",
      "         [0.6449, 0.6829, 0.0972],\n",
      "         [0.1486, 0.1088, 0.7946],\n",
      "         [0.9711, 0.5515, 0.2317]],\n",
      "\n",
      "        [[0.1433, 0.4715, 0.5113],\n",
      "         [0.4516, 0.2826, 0.3210],\n",
      "         [0.5677, 0.8707, 0.7571],\n",
      "         ...,\n",
      "         [0.8656, 0.6006, 0.3592],\n",
      "         [0.7461, 0.1160, 0.4989],\n",
      "         [0.4444, 0.0618, 0.5517]]])\n"
     ]
    }
   ],
   "source": [
    "image = torch.rand(size=(224, 224, 3))  # height, width, color_channels [R, G , B]\n",
    "# It is the same as torch.rand(224, 224, 3)\n",
    "print(image)"
   ]
  },
  {
   "cell_type": "code",
   "execution_count": 8,
   "metadata": {},
   "outputs": [
    {
     "name": "stdout",
     "output_type": "stream",
     "text": [
      "tensor([ 1,  6, 11, 16, 21, 26, 31, 36, 41, 46, 51, 56, 61, 66, 71, 76, 81, 86,\n",
      "        91, 96])\n"
     ]
    }
   ],
   "source": [
    "range_tensor = torch.arange(1, 100, 5) # start, end, step\n",
    "print(range_tensor)"
   ]
  },
  {
   "cell_type": "markdown",
   "metadata": {},
   "source": []
  },
  {
   "cell_type": "code",
   "execution_count": 10,
   "metadata": {},
   "outputs": [
    {
     "name": "stdout",
     "output_type": "stream",
     "text": [
      "torch.Size([224, 224, 3])\n",
      "torch.float32\n",
      "cpu\n"
     ]
    }
   ],
   "source": [
    "print(image.shape)\n",
    "print(image.dtype)\n",
    "print(image.device)"
   ]
  },
  {
   "cell_type": "code",
   "execution_count": 15,
   "metadata": {},
   "outputs": [
    {
     "name": "stdout",
     "output_type": "stream",
     "text": [
      "tensor([[1.0253, 1.1457, 0.7577],\n",
      "        [1.3628, 1.5013, 1.4170]])\n"
     ]
    }
   ],
   "source": [
    "# Matrix Multiplcation\n",
    "one = torch.rand(2,5)\n",
    "two = torch.rand(5,3)\n",
    "#result1 = one * two #this is element multiplication - wont work here bcs the dimensions are not same\n",
    "result2 = torch.matmul(one, two)\n",
    "print(result2)"
   ]
  },
  {
   "cell_type": "code",
   "execution_count": 17,
   "metadata": {},
   "outputs": [
    {
     "name": "stdout",
     "output_type": "stream",
     "text": [
      "tensor([[0.1088, 0.1637, 0.7025],\n",
      "        [0.6790, 0.9155, 0.2418]])\n",
      "tensor([[0.1088, 0.6790],\n",
      "        [0.1637, 0.9155],\n",
      "        [0.7025, 0.2418]])\n"
     ]
    }
   ],
   "source": [
    "tens = torch.rand(size=(2,3), dtype=torch.float32)\n",
    "print(tens)\n",
    "trans = tens.T #Transpose\n",
    "print(trans)"
   ]
  },
  {
   "cell_type": "code",
   "execution_count": 21,
   "metadata": {},
   "outputs": [
    {
     "data": {
      "text/plain": [
       "tensor(45.)"
      ]
     },
     "execution_count": 21,
     "metadata": {},
     "output_type": "execute_result"
    }
   ],
   "source": [
    "r = torch.arange(0,100,10)\n",
    "r.type(torch.float32).mean() #mean can only worj on float and complex dtype\n",
    "# This ^ is how you change the type"
   ]
  },
  {
   "cell_type": "code",
   "execution_count": 24,
   "metadata": {},
   "outputs": [
    {
     "name": "stdout",
     "output_type": "stream",
     "text": [
      "tensor(9)\n",
      "tensor(0)\n"
     ]
    }
   ],
   "source": [
    "reverse = torch.arange(100, 0, -10)\n",
    "print(reverse.argmin())\n",
    "print(reverse.argmax())"
   ]
  },
  {
   "cell_type": "markdown",
   "metadata": {},
   "source": [
    "## reshaping, stacking, squeezing, unsqueezing"
   ]
  },
  {
   "cell_type": "code",
   "execution_count": 31,
   "metadata": {},
   "outputs": [
    {
     "name": "stdout",
     "output_type": "stream",
     "text": [
      "tensor([[[0.1115],\n",
      "         [0.2477],\n",
      "         [0.6524]]])\n"
     ]
    },
    {
     "data": {
      "text/plain": [
       "torch.Size([1, 3, 1])"
      ]
     },
     "execution_count": 31,
     "metadata": {},
     "output_type": "execute_result"
    }
   ],
   "source": [
    "x = torch.rand(size=(1,3,1))\n",
    "print(x)\n",
    "x.shape"
   ]
  },
  {
   "cell_type": "code",
   "execution_count": 32,
   "metadata": {},
   "outputs": [
    {
     "name": "stdout",
     "output_type": "stream",
     "text": [
      "tensor([0.1115, 0.2477, 0.6524])\n"
     ]
    },
    {
     "data": {
      "text/plain": [
       "torch.Size([3])"
      ]
     },
     "execution_count": 32,
     "metadata": {},
     "output_type": "execute_result"
    }
   ],
   "source": [
    "print(x.squeeze())\n",
    "x.squeeze().shape"
   ]
  },
  {
   "cell_type": "code",
   "execution_count": 34,
   "metadata": {},
   "outputs": [
    {
     "data": {
      "text/plain": [
       "tensor([[[1, 2, 3],\n",
       "         [4, 5, 6],\n",
       "         [7, 8, 9]]])"
      ]
     },
     "execution_count": 34,
     "metadata": {},
     "output_type": "execute_result"
    }
   ],
   "source": [
    "x = torch.arange(1, 10, 1)\n",
    "y = x.reshape(1,3,3)\n",
    "y"
   ]
  },
  {
   "cell_type": "code",
   "execution_count": 40,
   "metadata": {},
   "outputs": [
    {
     "data": {
      "text/plain": [
       "tensor(9)"
      ]
     },
     "execution_count": 40,
     "metadata": {},
     "output_type": "execute_result"
    }
   ],
   "source": [
    "y[0][2][2]"
   ]
  },
  {
   "cell_type": "code",
   "execution_count": 44,
   "metadata": {},
   "outputs": [
    {
     "data": {
      "text/plain": [
       "tensor([[3, 6, 9]])"
      ]
     },
     "execution_count": 44,
     "metadata": {},
     "output_type": "execute_result"
    }
   ],
   "source": [
    "y[:, :, 2]"
   ]
  },
  {
   "cell_type": "code",
   "execution_count": 3,
   "metadata": {},
   "outputs": [
    {
     "name": "stdout",
     "output_type": "stream",
     "text": [
      "tensor([[0.0000],\n",
      "        [0.0200],\n",
      "        [0.0400],\n",
      "        [0.0600],\n",
      "        [0.0800],\n",
      "        [0.1000],\n",
      "        [0.1200],\n",
      "        [0.1400],\n",
      "        [0.1600],\n",
      "        [0.1800]])\n"
     ]
    },
    {
     "data": {
      "text/plain": [
       "tensor([[0.3000],\n",
       "        [0.3140],\n",
       "        [0.3280],\n",
       "        [0.3420],\n",
       "        [0.3560],\n",
       "        [0.3700],\n",
       "        [0.3840],\n",
       "        [0.3980],\n",
       "        [0.4120],\n",
       "        [0.4260]])"
      ]
     },
     "execution_count": 3,
     "metadata": {},
     "output_type": "execute_result"
    }
   ],
   "source": [
    "#Linear Regression\n",
    "import torch\n",
    "from torch import nn\n",
    "\n",
    "weights = 0.7\n",
    "bias = 0.3\n",
    "\n",
    "X = torch.arange(0, 1, 0.02).unsqueeze(dim=1)\n",
    "# Unsqeeze is used to add a dimension to the tensor, adding another bracket to the tensor\n",
    "y = weights*X + bias\n",
    "\n",
    "print(X[:10])\n",
    "y[:10]"
   ]
  },
  {
   "cell_type": "code",
   "execution_count": 4,
   "metadata": {},
   "outputs": [],
   "source": [
    "#Splitting data into training and test steps\n",
    "train_split = int(0.8*len(X)) #Can also use scikit learn's train_test_split\n",
    "X_train, y_train = X[:train_split], y[:train_split]\n",
    "X_test, y_test = X[train_split:], y[train_split:]"
   ]
  },
  {
   "cell_type": "code",
   "execution_count": 17,
   "metadata": {},
   "outputs": [],
   "source": [
    "#nn.Module - Base class for all neural network modules [IMPORTANT]\n",
    "\n",
    "from torch import nn\n",
    "\n",
    "class LinearRegressionModel(nn.Module):\n",
    "    def __init__(self):\n",
    "        super().__init__()\n",
    "        self.weights = nn.Parameter(torch.rand(1, requires_grad=True, dtype=torch.float32))\n",
    "        self.bias = nn.Parameter(torch.rand(1, requires_grad=True, dtype=torch.float32))\n",
    "        #requires_grad - For Gradient Descent\n",
    "    \n",
    "    def forward(self, X: torch.Tensor) -> torch.Tensor:\n",
    "        return self.weights*X + self.bias\n"
   ]
  },
  {
   "cell_type": "code",
   "execution_count": 19,
   "metadata": {},
   "outputs": [
    {
     "data": {
      "text/plain": [
       "[Parameter containing:\n",
       " tensor([0.8823], requires_grad=True),\n",
       " Parameter containing:\n",
       " tensor([0.9150], requires_grad=True)]"
      ]
     },
     "execution_count": 19,
     "metadata": {},
     "output_type": "execute_result"
    }
   ],
   "source": [
    "torch.manual_seed(42)\n",
    "model = LinearRegressionModel()\n",
    "list(model.parameters())"
   ]
  },
  {
   "cell_type": "code",
   "execution_count": 20,
   "metadata": {},
   "outputs": [
    {
     "data": {
      "text/plain": [
       "OrderedDict([('weights', tensor([0.8823])), ('bias', tensor([0.9150]))])"
      ]
     },
     "execution_count": 20,
     "metadata": {},
     "output_type": "execute_result"
    }
   ],
   "source": [
    "\n",
    "model.state_dict()"
   ]
  },
  {
   "cell_type": "code",
   "execution_count": 21,
   "metadata": {},
   "outputs": [],
   "source": [
    "# Loss Function\n",
    "loss_fn = nn.L1Loss()\n",
    "\n",
    "# Optimizer\n",
    "optimizer = torch.optim.SGD(model.parameters(), lr=0.01) #lr = learning rate"
   ]
  },
  {
   "cell_type": "code",
   "execution_count": 35,
   "metadata": {},
   "outputs": [
    {
     "name": "stdout",
     "output_type": "stream",
     "text": [
      "tensor(0.0071, grad_fn=<MeanBackward0>)\n"
     ]
    }
   ],
   "source": [
    "# Training Loop + testing loop\n",
    "epochs = 100\n",
    "\n",
    "for epoch in range(epochs):\n",
    "    model.train() # training mode - sets all parameters that require gradients to require gradients\n",
    "\n",
    "    #1. Forward Pass\n",
    "    y_pred = model(X_train)\n",
    "\n",
    "    #2. Calculate Loss\n",
    "    loss = loss_fn(y_pred, y_train) #difference between predicted and actual values\n",
    "\n",
    "    #3. optimizer.zero_grad() - clears the gradients of all optimized tensors\n",
    "    optimizer.zero_grad()  #just init to zero in each iteration\n",
    "\n",
    "    #4. backward pass - backpropagation\n",
    "    loss.backward()\n",
    "\n",
    "    #5. step the optimizer - perfor GD\n",
    "    optimizer.step()\n",
    "\n",
    "print(loss)\n"
   ]
  },
  {
   "cell_type": "code",
   "execution_count": 36,
   "metadata": {},
   "outputs": [
    {
     "data": {
      "text/plain": [
       "OrderedDict([('weights', tensor([0.6938])), ('bias', tensor([0.2980]))])"
      ]
     },
     "execution_count": 36,
     "metadata": {},
     "output_type": "execute_result"
    }
   ],
   "source": [
    "model.state_dict() #note that the weights and bias has changed from the initial random values - look above"
   ]
  },
  {
   "cell_type": "code",
   "execution_count": null,
   "metadata": {},
   "outputs": [],
   "source": []
  }
 ],
 "metadata": {
  "kernelspec": {
   "display_name": "learn-pytorch",
   "language": "python",
   "name": "python3"
  },
  "language_info": {
   "codemirror_mode": {
    "name": "ipython",
    "version": 3
   },
   "file_extension": ".py",
   "mimetype": "text/x-python",
   "name": "python",
   "nbconvert_exporter": "python",
   "pygments_lexer": "ipython3",
   "version": "3.11.11"
  }
 },
 "nbformat": 4,
 "nbformat_minor": 2
}
